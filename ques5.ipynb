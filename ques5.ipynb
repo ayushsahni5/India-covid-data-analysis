{
 "cells": [
  {
   "cell_type": "markdown",
   "id": "a6105818",
   "metadata": {},
   "source": [
    "# Answer5"
   ]
  },
  {
   "cell_type": "markdown",
   "id": "c3929b3b",
   "metadata": {},
   "source": [
    "## District wise calculation"
   ]
  },
  {
   "cell_type": "markdown",
   "id": "b5d90a71",
   "metadata": {},
   "source": [
    "### weeks"
   ]
  },
  {
   "cell_type": "code",
   "execution_count": 19,
   "id": "ccecaaed",
   "metadata": {},
   "outputs": [],
   "source": [
    "import pandas as pd\n",
    "\n",
    "q1_dist_list=pd.read_csv('datasets/q1-dist-list-df.csv')\n",
    "vaccine_df=pd.read_csv('datasets/cowin_vaccine_data_districtwise.csv',low_memory=False)\n",
    "q1_dist_list.rename(columns={'District':'District_Key'},inplace=True)  \n",
    "vaccine_df=pd.merge(vaccine_df,q1_dist_list)       # removing all districts not in ques1 district list\n",
    "patternDel = \"^DL_\"\n",
    "filter = vaccine_df['District_Key'].str.contains(patternDel)\n",
    "vaccine_df=vaccine_df[~filter]\n",
    "vaccine_df.loc[:, '16/01/2021':] = vaccine_df.loc[:, '16/01/2021':].apply(pd.to_numeric)\n",
    "vaccine_df.to_csv('datasets/vaccine-df.csv')"
   ]
  },
  {
   "cell_type": "code",
   "execution_count": 2,
   "id": "529b5d2b",
   "metadata": {},
   "outputs": [],
   "source": [
    "#dictionary to replace district names with disrict keys in district.csv\n",
    "dist_code_for_q3=pd.read_csv('datasets/dcodeq3.csv')\n",
    "dist_code_for_q3=dist_code_for_q3['B'].to_list()\n",
    "dist_name_for_q3=pd.read_csv('datasets/dnameq3.csv')\n",
    "dist_name_for_q3=dist_name_for_q3['A'].to_list()\n",
    "for i in range(len(dist_name_for_q3)):\n",
    "    dist_name_for_q3[i]=dist_name_for_q3[i].lower()\n",
    "dict_for_q3=dict(zip(dist_name_for_q3,dist_code_for_q3))\n",
    "\n",
    "\n",
    "'''creating a dictionary for storing number of doses of previous week. The value in this dictionary will be subtracted to get\n",
    "current week data'''\n",
    "dist_key_list=[]\n",
    "week_list=[]\n",
    "dose1_list=[]\n",
    "dose2_list=[]\n",
    "cumulative_dose1_dict=dict(zip(dist_code_for_q3,[0]*len(dist_code_for_q3)))\n",
    "cumulative_dose2_dict=dict(zip(dist_code_for_q3,[0]*len(dist_code_for_q3)))\n",
    "counter=1\n",
    "dose1=0\n",
    "dose2=0\n",
    "\n",
    "\n",
    "\n",
    "n=len(vaccine_df)\n",
    "for i in range(n):\n",
    "    week=1\n",
    "    col_len=len(vaccine_df.columns)\n",
    "    k=69         #69th column is 23/01/2021.3 which contains first dose administered' data\n",
    "    while k<col_len:\n",
    "        dose1=vaccine_df.iloc[:, [k]].iloc[i].iloc[0]\n",
    "        dose2=vaccine_df.iloc[:, [k+1]].iloc[i].iloc[0]\n",
    "        temp1=dose1\n",
    "        temp2=dose2\n",
    "        dose1=dose1-cumulative_dose1_dict[vaccine_df['District_Key'].iloc[i]]\n",
    "        dose2=dose2-cumulative_dose2_dict[vaccine_df['District_Key'].iloc[i]]\n",
    "        dist_key_list.append(vaccine_df['District_Key'].iloc[i])\n",
    "        week_list.append(week)\n",
    "        dose1_list.append(dose1)\n",
    "        dose2_list.append(dose2)\n",
    "        cumulative_dose1_dict[vaccine_df['District_Key'].iloc[i]]=temp1\n",
    "        cumulative_dose2_dict[vaccine_df['District_Key'].iloc[i]]=temp2\n",
    "        week=week+1\n",
    "        #now increment k so as to reach on 'first dose administered' column of 7 days later\n",
    "        k=k+1\n",
    "        k=k+69\n",
    "        \n",
    "    \n"
   ]
  },
  {
   "cell_type": "code",
   "execution_count": 3,
   "id": "a0bb6287",
   "metadata": {},
   "outputs": [],
   "source": [
    "data={'District_Key':dist_key_list,'week':week_list,'dose1':dose1_list,'dose2':dose2_list}\n",
    "vaccinated_count_week_df=pd.DataFrame(data)\n",
    "\n",
    "# we have to count only upto 14/08/2021. So, removing weeks after this date\n",
    "vaccinated_count_week_df.drop(vaccinated_count_week_df[vaccinated_count_week_df['week'] >32].index, inplace = True)"
   ]
  },
  {
   "cell_type": "code",
   "execution_count": 4,
   "id": "06909375",
   "metadata": {},
   "outputs": [],
   "source": [
    "#removing districts not obtained as result of question 1\n",
    "vaccinated_count_week_df=pd.merge(vaccinated_count_week_df,q1_dist_list)\n",
    "vaccinated_count_week_df.to_csv('output files/district-vaccinated-count-week.csv',index=False)"
   ]
  },
  {
   "cell_type": "markdown",
   "id": "6ecc273a",
   "metadata": {},
   "source": [
    "### months"
   ]
  },
  {
   "cell_type": "code",
   "execution_count": 5,
   "id": "731ae73d",
   "metadata": {},
   "outputs": [],
   "source": [
    "dist_key_list=[]\n",
    "month_list=[]\n",
    "dose1_list=[]\n",
    "dose2_list=[]\n",
    "cumulative_dose1_dict=dict(zip(dist_code_for_q3,[0]*len(dist_code_for_q3)))\n",
    "cumulative_dose2_dict=dict(zip(dist_code_for_q3,[0]*len(dist_code_for_q3)))\n",
    "\n",
    "dose1=0\n",
    "dose2=0\n",
    "\n",
    "n=len(vaccine_df)\n",
    "for i in range(n):\n",
    "    month=1\n",
    "    col_len=len(vaccine_df.columns)\n",
    "    \n",
    "    for col in vaccine_df:\n",
    "        if '14' in col and '.3' in col:   #basically I am finding columns of form 14(.*).3$. For ex 14/02/2021.3  such columns contain dose1 data\n",
    "            dose1=vaccine_df[col].iloc[i]\n",
    "            dose2=vaccine_df.iloc[:,vaccine_df.columns.get_indexer([col])+1].iloc[i].iloc[0] # the column next to dose1 data is of dose2 data\n",
    "            temp1=dose1\n",
    "            temp2=dose2\n",
    "            dose1=dose1-cumulative_dose1_dict[vaccine_df['District_Key'].iloc[i]]\n",
    "            dose2=dose2-cumulative_dose2_dict[vaccine_df['District_Key'].iloc[i]]\n",
    "            dist_key_list.append(vaccine_df['District_Key'].iloc[i])\n",
    "            month_list.append(month)\n",
    "            dose1_list.append(dose1)\n",
    "            dose2_list.append(dose2)\n",
    "            cumulative_dose1_dict[vaccine_df['District_Key'].iloc[i]]=temp1\n",
    "            cumulative_dose2_dict[vaccine_df['District_Key'].iloc[i]]=temp2\n",
    "            month=month+1\n",
    "        \n",
    "        \n",
    "    \n",
    "data={'District_Key':dist_key_list,'month':month_list,'dose1':dose1_list,'dose2':dose2_list}\n",
    "vaccinated_count_month_df=pd.DataFrame(data)\n",
    "vaccinated_count_month_df.drop(vaccinated_count_month_df[vaccinated_count_month_df['month'] >7].index, inplace = True)\n",
    "\n",
    "\n",
    "#removing districts not obtained as result of question 1\n",
    "vaccinated_count_month_df=pd.merge(vaccinated_count_month_df,q1_dist_list)  \n",
    "vaccinated_count_month_df.to_csv('output files/district-vaccinated-count-month.csv',index=False)"
   ]
  },
  {
   "cell_type": "markdown",
   "id": "920f9576",
   "metadata": {},
   "source": [
    "### overall"
   ]
  },
  {
   "cell_type": "code",
   "execution_count": 7,
   "id": "228872bf",
   "metadata": {},
   "outputs": [
    {
     "name": "stderr",
     "output_type": "stream",
     "text": [
      "/home/ayush/anaconda3/lib/python3.8/site-packages/pandas/core/frame.py:4441: SettingWithCopyWarning: \n",
      "A value is trying to be set on a copy of a slice from a DataFrame\n",
      "\n",
      "See the caveats in the documentation: https://pandas.pydata.org/pandas-docs/stable/user_guide/indexing.html#returning-a-view-versus-a-copy\n",
      "  return super().rename(\n",
      "<ipython-input-7-e5c96f65a340>:3: SettingWithCopyWarning: \n",
      "A value is trying to be set on a copy of a slice from a DataFrame.\n",
      "Try using .loc[row_indexer,col_indexer] = value instead\n",
      "\n",
      "See the caveats in the documentation: https://pandas.pydata.org/pandas-docs/stable/user_guide/indexing.html#returning-a-view-versus-a-copy\n",
      "  vaccinated_count_overall_df['overall']=pd.DataFrame([1]*len(vaccinated_count_overall_df))\n"
     ]
    }
   ],
   "source": [
    "pd.options.mode.chained_assignment = None   # this line will hide SettingWithCopyWarning\n",
    "vaccinated_count_overall_df=vaccine_df[['District_Key','14/08/2021.3','14/08/2021.4']]\n",
    "vaccinated_count_overall_df.rename(columns={'14/08/2021.3':'dose1','14/08/2021.4':'dose2'},inplace=True) #in cowin dataset, the column '14/08/2021.3' stores dose1 data\n",
    "vaccinated_count_overall_df['overall']=pd.DataFrame([1]*len(vaccinated_count_overall_df))\n",
    "vaccinated_count_overall_df=vaccinated_count_overall_df[['District_Key','overall','dose1','dose2']]\n",
    "vaccinated_count_overall_df=pd.merge(vaccinated_count_overall_df,q1_dist_list)\n",
    "vaccinated_count_overall_df.to_csv('output files/district-vaccinated-count-overall.csv',index=False)"
   ]
  },
  {
   "cell_type": "markdown",
   "id": "81a4497f",
   "metadata": {},
   "source": [
    "## State wise calculation"
   ]
  },
  {
   "cell_type": "markdown",
   "id": "d88aa468",
   "metadata": {},
   "source": [
    "### weeks"
   ]
  },
  {
   "cell_type": "code",
   "execution_count": 8,
   "id": "a57a2f2d",
   "metadata": {},
   "outputs": [],
   "source": [
    "state_vacc_count_week_df=pd.read_csv('output files/district-vaccinated-count-week.csv')\n",
    "state_vacc_count_week_df['District_Key'].replace(to_replace='_.*$',value='',regex=True,inplace=True) #removing district name and keeping only stateid\n",
    "state_vacc_count_week_df=state_vacc_count_week_df.groupby(['District_Key','week']).sum()\n",
    "state_vacc_count_week_df.to_csv('datasets/state-vacc-count-week-temp-df.csv')   # saving and reloading csv because groupby operation is applied\n",
    "state_vacc_count_week_df=pd.read_csv('datasets/state-vacc-count-week-temp-df.csv')\n",
    "state_vacc_count_week_df.rename(columns={'District_Key':'State'},inplace=True)\n",
    "state_vacc_count_week_df.to_csv('output files/state-vaccinated-count-week.csv',index=False)"
   ]
  },
  {
   "cell_type": "markdown",
   "id": "f7e93e6e",
   "metadata": {},
   "source": [
    "### months"
   ]
  },
  {
   "cell_type": "code",
   "execution_count": 9,
   "id": "d134af08",
   "metadata": {},
   "outputs": [],
   "source": [
    "state_vacc_count_month_df=pd.read_csv('output files/district-vaccinated-count-month.csv')\n",
    "state_vacc_count_month_df['District_Key'].replace(to_replace='_.*$',value='',regex=True,inplace=True) #removing district name and keeping only stateid\n",
    "state_vacc_count_month_df=state_vacc_count_month_df.groupby(['District_Key','month']).sum()\n",
    "state_vacc_count_month_df.to_csv('datasets/state-vacc-count-month-temp-df.csv')   # saving and reloading csv because groupby operation is applied\n",
    "state_vacc_count_month_df=pd.read_csv('datasets/state-vacc-count-month-temp-df.csv')\n",
    "state_vacc_count_month_df.rename(columns={'District_Key':'State'},inplace=True)\n",
    "state_vacc_count_month_df.to_csv('output files/state-vaccinated-count-month.csv',index=False)"
   ]
  },
  {
   "cell_type": "markdown",
   "id": "97f44cfe",
   "metadata": {},
   "source": [
    "### overall"
   ]
  },
  {
   "cell_type": "code",
   "execution_count": 10,
   "id": "4d78aab5",
   "metadata": {},
   "outputs": [],
   "source": [
    "state_vacc_count_overall_df=pd.read_csv('output files/district-vaccinated-count-overall.csv')\n",
    "state_vacc_count_overall_df['District_Key'].replace(to_replace='_.*$',value='',regex=True,inplace=True) #removing district name and keeping only stateid\n",
    "state_vacc_count_overall_df=state_vacc_count_overall_df.groupby(['District_Key','overall']).sum()\n",
    "state_vacc_count_overall_df.to_csv('datasets/state-vacc-count-overall-temp-df.csv')   # saving and reloading csv because groupby operation is applied\n",
    "state_vacc_count_overall_df=pd.read_csv('datasets/state-vacc-count-overall-temp-df.csv')\n",
    "state_vacc_count_overall_df.rename(columns={'District_Key':'State'},inplace=True)\n",
    "state_vacc_count_overall_df.to_csv('output files/state-vaccinated-count-overall.csv',index=False)"
   ]
  },
  {
   "cell_type": "markdown",
   "id": "c30e670c",
   "metadata": {},
   "source": [
    "#  "
   ]
  },
  {
   "cell_type": "markdown",
   "id": "398c7219",
   "metadata": {},
   "source": [
    "## Overall (country) wise calculation"
   ]
  },
  {
   "cell_type": "markdown",
   "id": "1418305f",
   "metadata": {},
   "source": [
    "### weeks"
   ]
  },
  {
   "cell_type": "code",
   "execution_count": 11,
   "id": "439a8b82",
   "metadata": {},
   "outputs": [],
   "source": [
    "overall_vacc_count_week_df=pd.read_csv('output files/state-vaccinated-count-week.csv')\n",
    "overall_vacc_count_week_df['State'].replace(to_replace='^.*',value='India',regex=True,inplace=True)\n",
    "overall_vacc_count_week_df=overall_vacc_count_week_df.groupby(['State','week']).sum()\n",
    "overall_vacc_count_week_df.to_csv('datasets/overall-vacc-count-week-temp-df.csv')   # saving and reloading csv because groupby operation is applied\n",
    "overall_vacc_count_week_df=pd.read_csv('datasets/overall-vacc-count-week-temp-df.csv')\n",
    "overall_vacc_count_week_df.rename(columns={'State':'overall'},inplace=True)\n",
    "overall_vacc_count_week_df.to_csv('output files/overall-vaccinated-count-week.csv',index=False)"
   ]
  },
  {
   "cell_type": "markdown",
   "id": "d7a17755",
   "metadata": {},
   "source": [
    "### months"
   ]
  },
  {
   "cell_type": "code",
   "execution_count": 12,
   "id": "380dbdcd",
   "metadata": {},
   "outputs": [],
   "source": [
    "overall_vacc_count_month_df=pd.read_csv('output files/state-vaccinated-count-month.csv')\n",
    "overall_vacc_count_month_df['State'].replace(to_replace='^.*',value='India',regex=True,inplace=True)\n",
    "overall_vacc_count_month_df=overall_vacc_count_month_df.groupby(['State','month']).sum()\n",
    "overall_vacc_count_month_df.to_csv('datasets/overall-vacc-count-month-temp-df.csv')   # saving and reloading csv because groupby operation is applied\n",
    "overall_vacc_count_month_df=pd.read_csv('datasets/overall-vacc-count-month-temp-df.csv')\n",
    "overall_vacc_count_month_df.rename(columns={'State':'overall'},inplace=True)\n",
    "overall_vacc_count_month_df.to_csv('output files/overall-vaccinated-count-month.csv',index=False)"
   ]
  },
  {
   "cell_type": "markdown",
   "id": "f92ffd21",
   "metadata": {},
   "source": [
    "### overall"
   ]
  },
  {
   "cell_type": "code",
   "execution_count": 13,
   "id": "29de888c",
   "metadata": {},
   "outputs": [],
   "source": [
    "overall_vacc_count_overall_df=pd.read_csv('output files/state-vaccinated-count-overall.csv')\n",
    "overall_vacc_count_overall_df['State'].replace(to_replace='^.*',value='India',regex=True,inplace=True)\n",
    "overall_vacc_count_overall_df=overall_vacc_count_overall_df.groupby(['State','overall']).sum()\n",
    "overall_vacc_count_overall_df.to_csv('datasets/overall-vacc-count-overall-temp-df.csv')   # saving and reloading csv because groupby operation is applied\n",
    "overall_vacc_count_overall_df=pd.read_csv('datasets/overall-vacc-count-overall-temp-df.csv')\n",
    "overall_vacc_count_overall_df.rename(columns={'State':'overall'},inplace=True)\n",
    "overall_vacc_count_overall_df.to_csv('output files/overall-vaccinated-count-overall.csv',index=False)"
   ]
  },
  {
   "cell_type": "markdown",
   "id": "aea4fd42",
   "metadata": {},
   "source": [
    "#  "
   ]
  }
 ],
 "metadata": {
  "kernelspec": {
   "display_name": "Python 3",
   "language": "python",
   "name": "python3"
  },
  "language_info": {
   "codemirror_mode": {
    "name": "ipython",
    "version": 3
   },
   "file_extension": ".py",
   "mimetype": "text/x-python",
   "name": "python",
   "nbconvert_exporter": "python",
   "pygments_lexer": "ipython3",
   "version": "3.8.8"
  }
 },
 "nbformat": 4,
 "nbformat_minor": 5
}
