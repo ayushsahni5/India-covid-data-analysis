{
 "cells": [
  {
   "cell_type": "markdown",
   "id": "87dfec66",
   "metadata": {},
   "source": [
    "# Answer8"
   ]
  },
  {
   "cell_type": "markdown",
   "id": "f34c168f",
   "metadata": {},
   "source": [
    "## Here, for each state, district and overall, we will find the following ratio: total number of persons vaccinated (both 1 and 2 doses) to total population"
   ]
  },
  {
   "cell_type": "markdown",
   "id": "9911fa64",
   "metadata": {},
   "source": [
    "## District wise"
   ]
  },
  {
   "cell_type": "code",
   "execution_count": 3,
   "id": "3fb75975",
   "metadata": {},
   "outputs": [],
   "source": [
    "import pandas as pd\n",
    "\n",
    "#loading district-wise-total-population data frame which was created in ques6\n",
    "dist_wise_tot_pop_df=pd.read_csv('datasets/district-wise-total-population-df.csv')\n",
    "\n",
    "#loading district-wise-dose1-dose2 dataframe created in ques 5\n",
    "dist_wise_tot_vaccinated=pd.read_csv('output files/district-vaccinated-count-overall.csv')\n",
    "\n",
    "\n",
    "#taking only district column and total vaccinated column\n",
    "dist_wise_tot_vaccinated=dist_wise_tot_vaccinated[['District_Key','dose1','dose2']]\n",
    "\n",
    "#merging district wise total vaccinated dataframe and district wise total population to get district wise total population along with total vaccinated people\n",
    "dist_wise_tot_vaccinated.rename(columns={'District_Key':'District'},inplace=True) # one dataframe has column District and other has District_Key. Before merging they need to be same.\n",
    "dist_vaccinated_dose_ratio=pd.merge(dist_wise_tot_vaccinated,dist_wise_tot_pop_df)\n",
    "dist_vaccinated_dose_ratio['vaccinateddose1ratio']=dist_vaccinated_dose_ratio['dose1']/dist_vaccinated_dose_ratio['TOT_P']\n",
    "dist_vaccinated_dose_ratio['vaccinateddose2ratio']=dist_vaccinated_dose_ratio['dose2']/dist_vaccinated_dose_ratio['TOT_P']\n",
    "dist_vaccinated_dose_ratio=dist_vaccinated_dose_ratio[['District','vaccinateddose1ratio','vaccinateddose2ratio']]\n",
    "dist_vaccinated_dose_ratio.sort_values('vaccinateddose1ratio',inplace=True)\n",
    "dist_vaccinated_dose_ratio.to_csv('output files/district-vaccinated-dose-ratio.csv',index=False)"
   ]
  },
  {
   "cell_type": "markdown",
   "id": "3183b5ad",
   "metadata": {},
   "source": [
    "## State wise"
   ]
  },
  {
   "cell_type": "code",
   "execution_count": 4,
   "id": "01054cda",
   "metadata": {},
   "outputs": [],
   "source": [
    "#loading district-wise-total-population data frame which was created in ques6\n",
    "state_wise_tot_pop_df=pd.read_csv('datasets/district-wise-total-population-df.csv')\n",
    "state_wise_tot_pop_df['District'].replace(to_replace='_.*',value='',regex=True,inplace=True)\n",
    "state_wise_tot_pop_df=state_wise_tot_pop_df[['District','TOT_P']]\n",
    "state_wise_tot_pop_df=state_wise_tot_pop_df.groupby(['District']).sum()\n",
    "\n",
    "state_wise_tot_pop_df.to_csv('datasets/state-wise-tot-pop-df.csv')  #groupby has been applied so saving and loading csv file\n",
    "state_wise_tot_pop_df.to_csv('datasets/state-wise-tot-pop-df.csv')\n",
    "state_wise_tot_pop_df=pd.read_csv('datasets/state-wise-tot-pop-df.csv')\n",
    "\n",
    "#loading district-wise-dose1-dose2 dataframe created in ques 5\n",
    "state_wise_tot_vaccinated=pd.read_csv('output files/state-vaccinated-count-overall.csv')\n",
    "\n",
    "\n",
    "#taking only district column and total vaccinated column\n",
    "state_wise_tot_vaccinated=state_wise_tot_vaccinated[['State','dose1','dose2']]\n",
    "\n",
    "#merging district wise total vaccinated dataframe and district wise total population to get district wise total population along with total vaccinated people\n",
    "state_wise_tot_pop_df.rename(columns={'District':'State'},inplace=True) # one dataframe has column District and other has District_Key. Before merging they need to be same.\n",
    "state_vaccinated_dose_ratio=pd.merge(state_wise_tot_vaccinated,state_wise_tot_pop_df)\n",
    "state_vaccinated_dose_ratio['vaccinateddose1ratio']=state_vaccinated_dose_ratio['dose1']/state_vaccinated_dose_ratio['TOT_P']\n",
    "state_vaccinated_dose_ratio['vaccinateddose2ratio']=state_vaccinated_dose_ratio['dose2']/state_vaccinated_dose_ratio['TOT_P']\n",
    "state_vaccinated_dose_ratio=state_vaccinated_dose_ratio[['State','vaccinateddose1ratio','vaccinateddose2ratio']]\n",
    "state_vaccinated_dose_ratio.sort_values('vaccinateddose1ratio',inplace=True)\n",
    "state_vaccinated_dose_ratio.to_csv('output files/state-vaccinated-dose-ratio.csv',index=False)"
   ]
  },
  {
   "cell_type": "markdown",
   "id": "9fca5503",
   "metadata": {},
   "source": [
    "## overall"
   ]
  },
  {
   "cell_type": "code",
   "execution_count": 5,
   "id": "b3c415d8",
   "metadata": {},
   "outputs": [],
   "source": [
    "#loading overall dose1 dose2 vaccinated dataframe created in ques5\n",
    "overall_tot_vaccinated_df=pd.read_csv('output files/overall-vaccinated-count-overall.csv')\n",
    "overall_tot_vaccinated_df\n",
    "#loading overall population of india\n",
    "'''The overall population can be directly seen from cencus 2011 data. It is 1210854977. So to find the required ratio\n",
    "I will simply divide by this number'''\n",
    "\n",
    "#calculation\n",
    "overall_tot_vaccinated_df['vaccinateddose1ratio']=overall_tot_vaccinated_df['dose1']/1210854977\n",
    "overall_tot_vaccinated_df['vaccinateddose2ratio']=overall_tot_vaccinated_df['dose2']/1210854977\n",
    "\n",
    "overall_tot_vaccinated_df=overall_tot_vaccinated_df[['overall','vaccinateddose1ratio','vaccinateddose2ratio']]\n",
    "overall_tot_vaccinated_df.to_csv('output files/overall-vaccinated-dose-ratio.csv',index=False)"
   ]
  }
 ],
 "metadata": {
  "kernelspec": {
   "display_name": "Python 3",
   "language": "python",
   "name": "python3"
  },
  "language_info": {
   "codemirror_mode": {
    "name": "ipython",
    "version": 3
   },
   "file_extension": ".py",
   "mimetype": "text/x-python",
   "name": "python",
   "nbconvert_exporter": "python",
   "pygments_lexer": "ipython3",
   "version": "3.8.8"
  }
 },
 "nbformat": 4,
 "nbformat_minor": 5
}
