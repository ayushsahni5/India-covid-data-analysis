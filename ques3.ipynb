{
 "cells": [
  {
   "cell_type": "markdown",
   "id": "b1b8b7fe",
   "metadata": {},
   "source": [
    "# Answer3\n",
    "## Number of cases district-wise"
   ]
  },
  {
   "cell_type": "code",
   "execution_count": 2,
   "id": "d37e6f46",
   "metadata": {},
   "outputs": [],
   "source": [
    "import numpy as np\n",
    "import pandas as pd\n",
    "pd.options.mode.chained_assignment = None   # this line will hide SettingWithCopyWarning\n",
    "\n",
    "\n",
    "neighbor_df=pd.read_csv('datasets/neighbor-df.csv')   # neighbor-df.csv was created in ques1"
   ]
  },
  {
   "cell_type": "markdown",
   "id": "782bb61b",
   "metadata": {},
   "source": [
    "### Pre-processing of district.csv"
   ]
  },
  {
   "cell_type": "code",
   "execution_count": 3,
   "id": "3b1605b0",
   "metadata": {},
   "outputs": [],
   "source": [
    "\n",
    "\n",
    "district_df=pd.read_csv(\"datasets/districts.csv\")\n",
    "\n",
    "\n",
    "'''There are many bad rows( rows having 'unKnown' and district names are absent from some rows. They contain values such as\n",
    "'other state'). These rows will be removed'''\n",
    "district_df['District']=district_df['District'].str.lower()\n",
    "district_df=district_df[['Date','State','District','Confirmed']]\n",
    "district_df=district_df.replace(to_replace=['unknown','capital complex','other state','other region','others'],value=np.nan)   #remove districts not in ques1 districts\n",
    "district_df=district_df.dropna(how='any',axis=0)\n",
    "district_df['Confirmed'][district_df['Confirmed']<0]=0\n",
    "\n",
    "\n",
    "# drop rows after 2021-08-14\n",
    "drop_row_beg=district_df[district_df.Date=='2021-08-15'].first_valid_index()  \n",
    "drop_row_end=len(district_df)\n",
    "district_df.drop(district_df.loc[drop_row_beg+1:].index, inplace=True)\n",
    "\n",
    "\n",
    "\n"
   ]
  },
  {
   "cell_type": "code",
   "execution_count": 4,
   "id": "ed662465",
   "metadata": {},
   "outputs": [],
   "source": [
    "#dictionary to replace district names with disrict keys in district.csv\n",
    "dist_code_for_q3=pd.read_csv('datasets/dcodeq3.csv')\n",
    "dist_code_for_q3=dist_code_for_q3['B'].to_list()\n",
    "dist_name_for_q3=pd.read_csv('datasets/dnameq3.csv')\n",
    "dist_name_for_q3=dist_name_for_q3['A'].to_list()\n",
    "for i in range(len(dist_name_for_q3)):\n",
    "    dist_name_for_q3[i]=dist_name_for_q3[i].lower()\n",
    "dict_for_q3=dict(zip(dist_name_for_q3,dist_code_for_q3))"
   ]
  },
  {
   "cell_type": "code",
   "execution_count": 5,
   "id": "f79dc766",
   "metadata": {},
   "outputs": [],
   "source": [
    "#correcting those districts which have same name but belong to different states. For ex, pratapgarh is present in UP as well as RJ\n",
    "state_list_q3=district_df['State'].to_list()\n",
    "dist_list_q3=district_df['District'].to_list()\n",
    "for i in range(len(state_list_q3)):\n",
    "    if state_list_q3[i].lower()=='uttar pradesh' and dist_list_q3[i].lower()=='pratapgarh':\n",
    "        dist_list_q3[i]='UP_Pratapgarh'\n",
    "    elif state_list_q3[i].lower()=='rajasthan' and dist_list_q3[i].lower()=='pratapgarh':\n",
    "        dist_list_q3[i]='RJ_Pratapgarh'\n",
    "    \n",
    "    if state_list_q3[i].lower()=='bihar' and dist_list_q3[i].lower()=='aurangabad':\n",
    "        dist_list_q3[i]='BR_Aurangabad'\n",
    "    elif state_list_q3[i].lower()=='maharashtra' and dist_list_q3[i].lower()=='aurangabad':\n",
    "        dist_list_q3[i]='MH_Aurangabad'\n",
    "    \n",
    "    if state_list_q3[i].lower()=='uttar pradesh' and dist_list_q3[i].lower()=='balrampur':\n",
    "        dist_list_q3[i]='UP_Balrampur'\n",
    "    elif state_list_q3[i].lower()=='chhattisgarh' and dist_list_q3[i].lower()=='balrampur':\n",
    "        dist_list_q3[i]='CT_Balrampur'\n",
    "        \n",
    "    if state_list_q3[i].lower()=='chhattisgarh' and dist_list_q3[i].lower()=='bilaspur':\n",
    "        dist_list_q3[i]='CT_Bilaspur'\n",
    "    elif state_list_q3[i].lower()=='himachal pradesh' and dist_list_q3[i].lower()=='bilaspur':\n",
    "        dist_list_q3[i]='HP_Bilaspur'\n",
    "        \n",
    "    if state_list_q3[i].lower()=='uttar pradesh' and dist_list_q3[i].lower()=='hamirpur':\n",
    "        dist_list_q3[i]='UP_Hamirpur'\n",
    "    elif state_list_q3[i].lower()=='himachal pradesh' and dist_list_q3[i].lower()=='hamirpur':\n",
    "        dist_list_q3[i]='HP_Hamirpur'\n",
    "        \n",
    "    \n",
    "        \n",
    "district_df['District']=dist_list_q3\n"
   ]
  },
  {
   "cell_type": "code",
   "execution_count": 6,
   "id": "83e28b55",
   "metadata": {},
   "outputs": [],
   "source": [
    "for col in district_df:\n",
    "    district_df=district_df.replace({col:dict_for_q3})      #dict_for_q3 is dictionary which maps district names with corresponding district_keys\n"
   ]
  },
  {
   "cell_type": "code",
   "execution_count": 24,
   "id": "04a85d31",
   "metadata": {},
   "outputs": [],
   "source": [
    "district_df.to_csv('datasets/district-df.csv',index=False)   # will be used in ques4"
   ]
  },
  {
   "cell_type": "code",
   "execution_count": 25,
   "id": "71d64607",
   "metadata": {},
   "outputs": [],
   "source": [
    "#creating a dataframe of districts obtained in ques1 so that only these districts will be included in furthur calculations\n",
    "\n",
    "q1_dist_list=neighbor_df.columns.to_list()\n",
    "q1_dist_list=pd.DataFrame(q1_dist_list,columns=['District'])\n"
   ]
  },
  {
   "cell_type": "markdown",
   "id": "3bd99416",
   "metadata": {},
   "source": [
    "### Calculation of week-wise cases"
   ]
  },
  {
   "cell_type": "code",
   "execution_count": 26,
   "id": "4eadf4b4",
   "metadata": {},
   "outputs": [],
   "source": [
    "dist_key_list=[]\n",
    "week_list=[]\n",
    "cases_list=[]\n",
    "cumulative_dict=dict(zip(dist_code_for_q3,[0]*len(dist_code_for_q3)))\n",
    "counter=1\n",
    "cases=0\n",
    "week=1\n",
    "n=len(district_df)\n",
    "for i in range(n):\n",
    "    \n",
    "    if i==0:\n",
    "        continue\n",
    "    \n",
    "    if district_df['Date'].iloc[i]==district_df['Date'].iloc[i-1]:\n",
    "        continue\n",
    "      \n",
    "    counter=counter+1      #for keeping count of days \n",
    "    \n",
    "    if counter==7:       #last day of week\n",
    "        \n",
    "        j=0\n",
    "        while i+j<n-1:\n",
    "            \n",
    "            cases=district_df['Confirmed'].iloc[i+j]\n",
    "            temp=cases\n",
    "            cases=cases-cumulative_dict[district_df['District'].iloc[i+j]]\n",
    "            dist_key_list.append(district_df['District'].iloc[i+j])\n",
    "            week_list.append(week)\n",
    "            cases_list.append(cases)\n",
    "            cumulative_dict[district_df['District'].iloc[i+j]]=temp\n",
    "            if district_df['Date'].iloc[i+j] != district_df['Date'].iloc[i+j+1]:\n",
    "                break\n",
    "            j=j+1\n",
    "            \n",
    "        \n",
    "        counter=0\n",
    "        week=week+1\n",
    "        \n",
    "    \n",
    "        \n",
    "    \n"
   ]
  },
  {
   "cell_type": "code",
   "execution_count": 27,
   "id": "f55f044b",
   "metadata": {},
   "outputs": [],
   "source": [
    "data={'District':dist_key_list,'week':week_list,'cases':cases_list}\n",
    "weekly_data=pd.DataFrame(data)"
   ]
  },
  {
   "cell_type": "markdown",
   "id": "f11f4e4d",
   "metadata": {},
   "source": [
    "## creation of list of district codes which will be used to match districts obtained in furthur questions with districts of question1"
   ]
  },
  {
   "cell_type": "code",
   "execution_count": 28,
   "id": "7c900d3f",
   "metadata": {},
   "outputs": [],
   "source": [
    "q1_dist_list=pd.read_csv('datasets/q1-dist-list-df.csv')"
   ]
  },
  {
   "cell_type": "code",
   "execution_count": 29,
   "id": "63d8c769",
   "metadata": {},
   "outputs": [
    {
     "name": "stderr",
     "output_type": "stream",
     "text": [
      "<ipython-input-29-479a5b902f31>:1: SettingWithCopyWarning: \n",
      "A value is trying to be set on a copy of a slice from a DataFrame\n",
      "\n",
      "See the caveats in the documentation: https://pandas.pydata.org/pandas-docs/stable/user_guide/indexing.html#returning-a-view-versus-a-copy\n",
      "  weekly_data['cases'][weekly_data['cases']<0]=np.nan\n"
     ]
    }
   ],
   "source": [
    "weekly_data['cases'][weekly_data['cases']<0]=np.nan\n",
    "weekly_data=pd.merge(weekly_data,q1_dist_list)   # removing districts not obtained in ques1\n",
    "weekly_data.dropna(how='any',axis=0,inplace=True)\n",
    "weekly_data.to_csv('output files/cases-week.csv',index=False)"
   ]
  },
  {
   "cell_type": "markdown",
   "id": "5b650b77",
   "metadata": {},
   "source": [
    "### Calculation of month wise cases"
   ]
  },
  {
   "cell_type": "code",
   "execution_count": 30,
   "id": "e50e38a1",
   "metadata": {},
   "outputs": [],
   "source": [
    "\n",
    "dist_list_q3m=[]\n",
    "month_list_q3m=[]\n",
    "cases_list_q3m=[]\n",
    "month=1\n",
    "curr_cases_m=0\n",
    "last_value_q3m_dict=dict(zip(dist_code_for_q3,[0]*len(dist_code_for_q3)))\n",
    "\n",
    "i=0\n",
    "n_m=len(district_df)   #n for month\n",
    "while i<n_m:\n",
    "    if '14' not in district_df['Date'].iloc[i]:\n",
    "        i=i+1\n",
    "        continue\n",
    "        \n",
    "    else:\n",
    "        j=0\n",
    "        \n",
    "        while i+j<n_m:\n",
    "            curr_cases_m=district_df['Confirmed'].iloc[i+j]\n",
    "            temp=curr_cases_m\n",
    "            curr_cases_m=curr_cases_m - last_value_q3m_dict[district_df['District'].iloc[i+j]]\n",
    "            \n",
    "            dist_list_q3m.append(district_df['District'].iloc[i+j])\n",
    "            cases_list_q3m.append(curr_cases_m)\n",
    "            month_list_q3m.append(month)\n",
    "            \n",
    "            last_value_q3m_dict[district_df['District'].iloc[i+j]]=temp\n",
    "            \n",
    "            if '14' not in district_df['Date'].iloc[i+j+1]:\n",
    "                \n",
    "                i=i+j\n",
    "                break\n",
    "                \n",
    "            j=j+1\n",
    "            \n",
    "        month=month+1\n",
    "            \n",
    "    i=i+1 "
   ]
  },
  {
   "cell_type": "code",
   "execution_count": 31,
   "id": "1929956d",
   "metadata": {},
   "outputs": [],
   "source": [
    "data_month={'District':dist_list_q3m,'month':month_list_q3m,'cases':cases_list_q3m}\n",
    "monthly_data=pd.DataFrame(data_month)"
   ]
  },
  {
   "cell_type": "code",
   "execution_count": 35,
   "id": "e17d3787",
   "metadata": {},
   "outputs": [],
   "source": [
    "pd.options.mode.chained_assignment = None   # this line will hide SettingWithCopyWarning\n",
    "monthly_data['cases'][monthly_data['cases']<0]=np.nan\n",
    "monthly_data=pd.merge(monthly_data,q1_dist_list)\n",
    "monthly_data.dropna(how='any',axis=0,inplace=True)\n",
    "\n",
    "monthly_data.to_csv('output files/cases-month.csv',index=False)"
   ]
  },
  {
   "cell_type": "markdown",
   "id": "5dc9f9b1",
   "metadata": {},
   "source": [
    "### Calculation of overall cases"
   ]
  },
  {
   "cell_type": "code",
   "execution_count": 33,
   "id": "8d862b05",
   "metadata": {},
   "outputs": [
    {
     "data": {
      "text/html": [
       "<div>\n",
       "<style scoped>\n",
       "    .dataframe tbody tr th:only-of-type {\n",
       "        vertical-align: middle;\n",
       "    }\n",
       "\n",
       "    .dataframe tbody tr th {\n",
       "        vertical-align: top;\n",
       "    }\n",
       "\n",
       "    .dataframe thead th {\n",
       "        text-align: right;\n",
       "    }\n",
       "</style>\n",
       "<table border=\"1\" class=\"dataframe\">\n",
       "  <thead>\n",
       "    <tr style=\"text-align: right;\">\n",
       "      <th></th>\n",
       "      <th>District</th>\n",
       "      <th>overall</th>\n",
       "      <th>cases</th>\n",
       "    </tr>\n",
       "  </thead>\n",
       "  <tbody>\n",
       "    <tr>\n",
       "      <th>306589</th>\n",
       "      <td>AP_Anantapur</td>\n",
       "      <td>1</td>\n",
       "      <td>156771</td>\n",
       "    </tr>\n",
       "    <tr>\n",
       "      <th>306590</th>\n",
       "      <td>AP_Chittoor</td>\n",
       "      <td>1</td>\n",
       "      <td>234871</td>\n",
       "    </tr>\n",
       "    <tr>\n",
       "      <th>306591</th>\n",
       "      <td>AP_East Godavari</td>\n",
       "      <td>1</td>\n",
       "      <td>282389</td>\n",
       "    </tr>\n",
       "    <tr>\n",
       "      <th>306592</th>\n",
       "      <td>TG_Foreign Evacuees</td>\n",
       "      <td>1</td>\n",
       "      <td>434</td>\n",
       "    </tr>\n",
       "    <tr>\n",
       "      <th>306593</th>\n",
       "      <td>AP_Guntur</td>\n",
       "      <td>1</td>\n",
       "      <td>170493</td>\n",
       "    </tr>\n",
       "    <tr>\n",
       "      <th>...</th>\n",
       "      <td>...</td>\n",
       "      <td>...</td>\n",
       "      <td>...</td>\n",
       "    </tr>\n",
       "    <tr>\n",
       "      <th>307241</th>\n",
       "      <td>WB_Purba Bardhaman</td>\n",
       "      <td>1</td>\n",
       "      <td>40280</td>\n",
       "    </tr>\n",
       "    <tr>\n",
       "      <th>307242</th>\n",
       "      <td>WB_Purba Medinipur</td>\n",
       "      <td>1</td>\n",
       "      <td>61010</td>\n",
       "    </tr>\n",
       "    <tr>\n",
       "      <th>307243</th>\n",
       "      <td>WB_Purulia</td>\n",
       "      <td>1</td>\n",
       "      <td>19214</td>\n",
       "    </tr>\n",
       "    <tr>\n",
       "      <th>307244</th>\n",
       "      <td>WB_South 24 Parganas</td>\n",
       "      <td>1</td>\n",
       "      <td>96779</td>\n",
       "    </tr>\n",
       "    <tr>\n",
       "      <th>307245</th>\n",
       "      <td>WB_Uttar Dinajpur</td>\n",
       "      <td>1</td>\n",
       "      <td>19536</td>\n",
       "    </tr>\n",
       "  </tbody>\n",
       "</table>\n",
       "<p>643 rows × 3 columns</p>\n",
       "</div>"
      ],
      "text/plain": [
       "                    District  overall   cases\n",
       "306589          AP_Anantapur        1  156771\n",
       "306590           AP_Chittoor        1  234871\n",
       "306591      AP_East Godavari        1  282389\n",
       "306592   TG_Foreign Evacuees        1     434\n",
       "306593             AP_Guntur        1  170493\n",
       "...                      ...      ...     ...\n",
       "307241    WB_Purba Bardhaman        1   40280\n",
       "307242    WB_Purba Medinipur        1   61010\n",
       "307243            WB_Purulia        1   19214\n",
       "307244  WB_South 24 Parganas        1   96779\n",
       "307245     WB_Uttar Dinajpur        1   19536\n",
       "\n",
       "[643 rows x 3 columns]"
      ]
     },
     "execution_count": 33,
     "metadata": {},
     "output_type": "execute_result"
    }
   ],
   "source": [
    "overall_cases_df=district_df[district_df['Date']=='2021-08-14']\n",
    "overall_cases_df=overall_cases_df.rename(columns={'Confirmed':'cases'})\n",
    "temp_list=[1]*len(overall_cases_df)\n",
    "overall_cases_df=overall_cases_df.assign(overall=temp_list)\n",
    "overall_cases_df.drop(columns={'Date','State'},axis=1)\n",
    "overall_cases_df=overall_cases_df[['District','overall','cases']]\n",
    "#overall_cases_df"
   ]
  },
  {
   "cell_type": "code",
   "execution_count": 34,
   "id": "495d778e",
   "metadata": {},
   "outputs": [],
   "source": [
    "#writing overall file\n",
    "overall_cases_df['cases'][overall_cases_df['cases']<0]=np.nan\n",
    "overall_cases_df.dropna(how='any',axis=0,inplace=True)\n",
    "overall_cases_df=pd.merge(overall_cases_df,q1_dist_list)\n",
    "overall_cases_df.to_csv('output files/cases-overall.csv',index=False)"
   ]
  },
  {
   "cell_type": "code",
   "execution_count": null,
   "id": "9ce039c9",
   "metadata": {},
   "outputs": [],
   "source": []
  }
 ],
 "metadata": {
  "kernelspec": {
   "display_name": "Python 3",
   "language": "python",
   "name": "python3"
  },
  "language_info": {
   "codemirror_mode": {
    "name": "ipython",
    "version": 3
   },
   "file_extension": ".py",
   "mimetype": "text/x-python",
   "name": "python",
   "nbconvert_exporter": "python",
   "pygments_lexer": "ipython3",
   "version": "3.8.8"
  }
 },
 "nbformat": 4,
 "nbformat_minor": 5
}
