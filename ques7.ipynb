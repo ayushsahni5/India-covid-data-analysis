{
 "cells": [
  {
   "cell_type": "markdown",
   "id": "ae18b071",
   "metadata": {},
   "source": [
    "# Answer7"
   ]
  },
  {
   "cell_type": "markdown",
   "id": "f51ed141",
   "metadata": {},
   "source": [
    "## Here, for each state, district and overall, we are going to find the following ratios: total number of Cov-ishield vaccinated persons (either 1 or 2 doses) to total number of Covaxin vaccinated persons\n"
   ]
  },
  {
   "cell_type": "markdown",
   "id": "78ff1fa8",
   "metadata": {},
   "source": [
    "### District wise"
   ]
  },
  {
   "cell_type": "code",
   "execution_count": 1,
   "id": "20b4dea4",
   "metadata": {},
   "outputs": [
    {
     "name": "stderr",
     "output_type": "stream",
     "text": [
      "<ipython-input-1-2f610d690c97>:11: SettingWithCopyWarning: \n",
      "A value is trying to be set on a copy of a slice from a DataFrame.\n",
      "Try using .loc[row_indexer,col_indexer] = value instead\n",
      "\n",
      "See the caveats in the documentation: https://pandas.pydata.org/pandas-docs/stable/user_guide/indexing.html#returning-a-view-versus-a-copy\n",
      "  dist_covi_cova_ratio_df['ratio(covishield/covaxin)']=dist_covi_cova_ratio_df['14/08/2021.9']/dist_covi_cova_ratio_df['14/08/2021.8']\n"
     ]
    }
   ],
   "source": [
    "import pandas as pd\n",
    "pd.options.mode.chained_assignment = None   # this line will hide SettingWithCopyWarning\n",
    "\n",
    "'''Here I will use vaccine dataframe vaccine_df which I have already prepared and processed. Originally, Many of its\n",
    "numeric fields were of obect type but later I had modified them to numeric data type'''\n",
    "#loading vaccine_df\n",
    "vaccine_df=pd.read_csv('datasets/vaccine-df.csv')\n",
    "\n",
    "#loading q1-district-list dataframe which will be used to remove districts not obtained in question1\n",
    "q1_dist_list=pd.read_csv('datasets/q1-dist-list-df.csv')\n",
    "dist_covi_cova_ratio_df=vaccine_df[['District_Key','14/08/2021.9','14/08/2021.8']]\n",
    "dist_covi_cova_ratio_df['ratio(covishield/covaxin)']=dist_covi_cova_ratio_df['14/08/2021.9']/dist_covi_cova_ratio_df['14/08/2021.8']\n",
    "dist_covi_cova_ratio_df=dist_covi_cova_ratio_df[['District_Key','ratio(covishield/covaxin)']]\n",
    "dist_covi_cova_ratio_df.rename(columns={'District_Key':'District'}, inplace=True)\n",
    "dist_covi_cova_ratio_df=pd.merge(dist_covi_cova_ratio_df,q1_dist_list)\n",
    "dist_covi_cova_ratio_df.replace(to_replace=float('inf'),value=0,inplace=True)  # I am replacing inf (obtained due to division by zero) with zero\n",
    "dist_covi_cova_ratio_df.to_csv('output files/district-vaccine-type-ratio.csv',index=False)"
   ]
  },
  {
   "cell_type": "markdown",
   "id": "144eed2b",
   "metadata": {},
   "source": [
    "### State wise"
   ]
  },
  {
   "cell_type": "code",
   "execution_count": 2,
   "id": "438a6070",
   "metadata": {},
   "outputs": [
    {
     "name": "stderr",
     "output_type": "stream",
     "text": [
      "/home/ayush/anaconda3/lib/python3.8/site-packages/pandas/core/frame.py:4524: SettingWithCopyWarning: \n",
      "A value is trying to be set on a copy of a slice from a DataFrame\n",
      "\n",
      "See the caveats in the documentation: https://pandas.pydata.org/pandas-docs/stable/user_guide/indexing.html#returning-a-view-versus-a-copy\n",
      "  return super().replace(\n"
     ]
    }
   ],
   "source": [
    "state_covi_cova_ratio_df=vaccine_df[['District_Key','14/08/2021.9','14/08/2021.8']]\n",
    "state_covi_cova_ratio_df.replace(to_replace='_.*', value='',regex=True, inplace=True)\n",
    "state_covi_cova_ratio_df=state_covi_cova_ratio_df.groupby('District_Key').sum() # groupby is applied so we need to save and load again\n",
    "state_covi_cova_ratio_df.to_csv('datasets/state-covi-cova-ratio-df.csv')\n",
    "state_covi_cova_ratio_df=pd.read_csv('datasets/state-covi-cova-ratio-df.csv')\n",
    "state_covi_cova_ratio_df['ratio(covishield/covaxin)']=state_covi_cova_ratio_df['14/08/2021.9']/state_covi_cova_ratio_df['14/08/2021.8']\n",
    "state_covi_cova_ratio_df=state_covi_cova_ratio_df[['District_Key','ratio(covishield/covaxin)']]\n",
    "state_covi_cova_ratio_df.rename(columns={'District_Key':'State'})\n",
    "state_covi_cova_ratio_df.replace(to_replace=float('inf'),value=0,inplace=True) # replacing inf with 0\n",
    "state_covi_cova_ratio_df.to_csv('output files/state-vaccine-type-ratio.csv',index=False)"
   ]
  },
  {
   "cell_type": "markdown",
   "id": "3615270d",
   "metadata": {},
   "source": [
    "### Overall"
   ]
  },
  {
   "cell_type": "code",
   "execution_count": 3,
   "id": "e08537a7",
   "metadata": {},
   "outputs": [],
   "source": [
    "overall_covi_cova_ratio_df=vaccine_df[['District_Key','14/08/2021.9','14/08/2021.8']]\n",
    "overall_covi_cova_ratio_df.replace(to_replace='^.*', value='India',regex=True, inplace=True)\n",
    "overall_covi_cova_ratio_df=overall_covi_cova_ratio_df.groupby('District_Key').sum()\n",
    "overall_covi_cova_ratio_df.to_csv('datasets/overall-covi-cova-ratio-df.csv')\n",
    "overall_covi_cova_ratio_df=pd.read_csv('datasets/overall-covi-cova-ratio-df.csv')\n",
    "overall_covi_cova_ratio_df['ratio(covishield/covaxin)']=overall_covi_cova_ratio_df['14/08/2021.9']/overall_covi_cova_ratio_df['14/08/2021.8']\n",
    "overall_covi_cova_ratio_df=overall_covi_cova_ratio_df[['District_Key','ratio(covishield/covaxin)']]\n",
    "overall_covi_cova_ratio_df.rename(columns={'District_Key':'overall'})\n",
    "overall_covi_cova_ratio_df.replace(to_replace=float('inf'),value=0,inplace=True) # replacing inf with 0\n",
    "overall_covi_cova_ratio_df.to_csv('output files/overall-vaccine-type-ratio.csv',index=False)"
   ]
  },
  {
   "cell_type": "markdown",
   "id": "17f92e00",
   "metadata": {},
   "source": [
    "# "
   ]
  }
 ],
 "metadata": {
  "kernelspec": {
   "display_name": "Python 3",
   "language": "python",
   "name": "python3"
  },
  "language_info": {
   "codemirror_mode": {
    "name": "ipython",
    "version": 3
   },
   "file_extension": ".py",
   "mimetype": "text/x-python",
   "name": "python",
   "nbconvert_exporter": "python",
   "pygments_lexer": "ipython3",
   "version": "3.8.8"
  }
 },
 "nbformat": 4,
 "nbformat_minor": 5
}
