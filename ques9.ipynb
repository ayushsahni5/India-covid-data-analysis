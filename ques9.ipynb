{
 "cells": [
  {
   "cell_type": "markdown",
   "id": "c125cd81",
   "metadata": {},
   "source": [
    "# Answer9"
   ]
  },
  {
   "cell_type": "markdown",
   "id": "3e6be527",
   "metadata": {},
   "source": [
    "## The date on which the entire population will get at least one dose of vaccination"
   ]
  },
  {
   "cell_type": "code",
   "execution_count": 10,
   "id": "41736cca",
   "metadata": {},
   "outputs": [],
   "source": [
    "import pandas as pd\n",
    "pd.options.mode.chained_assignment = None   # this line will hide SettingWithCopyWarning\n",
    "\n",
    "\n",
    "vaccine_df=pd.read_csv('datasets/vaccine-df.csv')   #from vaccine-df.csv I have already removed districts not obtained as result in question1\n",
    "rate_df=vaccine_df[['District_Key','07/08/2021.3','07/08/2021.4','14/08/2021.3','14/08/2021.4']]\n",
    "#'07/08/2021.3' is the column name of dose1 on 7th aug 2021\n",
    "#'07/08/2021.4' is the column name of dose2 on 7th aug 2021\n",
    "#'14/08/2021.3' is the column name of dose1 on 14th aug2021\n",
    "#'14/08/2021.4' is the column name of dose2 on 14th aug 2021\n",
    "\n",
    "#before calculating the rates, I should group-by the districts into their states\n",
    "rate_df['District_Key'].replace(to_replace='_.*',value='',regex=True,inplace=True)  #removing the district names and keeping only state codes\n",
    "rate_df=rate_df.groupby('District_Key').sum()\n",
    "rate_df.to_csv('datasets/rate-df.csv')   \n",
    "'''since groupby is applied the indexing has been changed. Also, because of groupby, rows of those columns which were\n",
    "not included in groupby cannot be retrieved. After saving csv file and then loading back will allow those operations\n",
    "to be done as usually on the dataframe'''\n",
    "rate_df=pd.read_csv('datasets/rate-df.csv')\n",
    "\n",
    "rate_df.rename(columns={'District_Key':'State'},inplace=True)\n"
   ]
  },
  {
   "cell_type": "markdown",
   "id": "0a30c041",
   "metadata": {},
   "source": [
    "###  NOTE: To find the  date on which the entire population will get \"atleast one dose\" of vaccination, we should find the rate of vaccination and total population left to be vaccinated by considering only dose1 and not dose2. This is because: \n",
    "### Let A denote number of people vaccinated with dose1 and B denote number of people vaccinated with dose2. Let N(A) denote number of people in set A. Then N(atleast one dose)=N(A union B)=N(A)+N(B)-N(AandB)=N(A)+N(B)-N(B)=N(A) {because N(AnadB) means people vaccinated with both doses is same as people vaccinated with dose2...because dose2 cannot be completed before dose1}"
   ]
  },
  {
   "cell_type": "code",
   "execution_count": 11,
   "id": "19d37742",
   "metadata": {},
   "outputs": [],
   "source": [
    "'''So I am going to count only dose1 for rate calculation for the time when every person will get vacicnated with\n",
    "\"atleast one dose\" '''\n",
    "rate_df['rateofvaccination']=(rate_df['14/08/2021.3'] - rate_df['07/08/2021.3'] )/7\n",
    "state_wise_pop_df=pd.read_csv('datasets/state-wise-tot-pop-df.csv')\n",
    "state_wise_pop_df.rename(columns={'District':'State'},inplace=True)\n",
    "complete_df=pd.merge(rate_df,state_wise_pop_df)\n",
    "complete_df['populationleft']=complete_df['TOT_P']-complete_df['14/08/2021.3']\n",
    "complete_df=complete_df[['State','populationleft','rateofvaccination']]\n",
    "#note that in rate_df I have removed those states for which any of the files given to be used had an entry named 'Unknown'\n",
    "\n",
    "\n",
    "'''The populationleft and rateofvaccination entries are according to the date 14/08/2021'''\n",
    "complete_df['more_days_required']=(complete_df['populationleft']/complete_df['rateofvaccination'] +1)  # i have added 1 because of round-off error while dividing.Also, adding 1 more day is better for prediction\n",
    "\n",
    "#converting days required to integer\n",
    "complete_df['more_days_required']=complete_df['more_days_required'].astype(int)\n",
    "\n",
    "\n",
    "\n",
    "#converting more_days_required to exact date on which everyone will get atleast one dose\n",
    "import datetime\n",
    "\n",
    "date_1 = datetime.datetime.strptime(\"14-08-2021\", \"%d-%m-%Y\")\n",
    "for i in range(len(complete_df)):\n",
    "    temp=complete_df['more_days_required'].iloc[i]\n",
    "    put_date=date_1 + datetime.timedelta(days=int(temp))\n",
    "    complete_df['more_days_required'].iloc[i]=put_date\n",
    "    \n",
    "complete_df.rename(columns={'more_days_required':'date'},inplace=True)\n",
    "complete_df['date'].replace(to_replace=' 00:00:00',value='',regex=True,inplace=True)\n"
   ]
  },
  {
   "cell_type": "markdown",
   "id": "f8e6ccda",
   "metadata": {},
   "source": [
    "### Note that in  complete-vaccination.csv file, some values are negative because I have used population data of 2011 and population has increased since then"
   ]
  },
  {
   "cell_type": "code",
   "execution_count": 12,
   "id": "bfc57478",
   "metadata": {},
   "outputs": [],
   "source": [
    "#writing complete-vaccination.csv file\n",
    "complete_df.to_csv('output files/complete-vaccination.csv',index=False)"
   ]
  }
 ],
 "metadata": {
  "kernelspec": {
   "display_name": "Python 3",
   "language": "python",
   "name": "python3"
  },
  "language_info": {
   "codemirror_mode": {
    "name": "ipython",
    "version": 3
   },
   "file_extension": ".py",
   "mimetype": "text/x-python",
   "name": "python",
   "nbconvert_exporter": "python",
   "pygments_lexer": "ipython3",
   "version": "3.8.8"
  }
 },
 "nbformat": 4,
 "nbformat_minor": 5
}
